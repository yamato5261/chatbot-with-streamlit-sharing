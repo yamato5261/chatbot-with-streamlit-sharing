{
  "nbformat": 4,
  "nbformat_minor": 0,
  "metadata": {
    "colab": {
      "name": "voice_data_tanscription.jpynb",
      "provenance": [],
      "authorship_tag": "ABX9TyOyhaKXEE622TFNy8B0ausg",
      "include_colab_link": true
    },
    "kernelspec": {
      "name": "python3",
      "display_name": "Python 3"
    },
    "language_info": {
      "name": "python"
    }
  },
  "cells": [
    {
      "cell_type": "markdown",
      "metadata": {
        "id": "view-in-github",
        "colab_type": "text"
      },
      "source": [
        "<a href=\"https://colab.research.google.com/github/yamato5261/chatbot-with-streamlit-sharing/blob/main/voice_data_tanscription_jpynb.ipynb\" target=\"_parent\"><img src=\"https://colab.research.google.com/assets/colab-badge.svg\" alt=\"Open In Colab\"/></a>"
      ]
    },
    {
      "cell_type": "code",
      "metadata": {
        "colab": {
          "base_uri": "https://localhost:8080/"
        },
        "id": "C8hCwqt3eJQ1",
        "outputId": "a2ec025c-fba8-4bf7-b2e6-6e53c0401d22"
      },
      "source": [
        "pip install SpeechRecognition"
      ],
      "execution_count": 4,
      "outputs": [
        {
          "output_type": "stream",
          "name": "stdout",
          "text": [
            "Requirement already satisfied: SpeechRecognition in /usr/local/lib/python3.7/dist-packages (3.8.1)\n"
          ]
        }
      ]
    },
    {
      "cell_type": "code",
      "metadata": {
        "colab": {
          "base_uri": "https://localhost:8080/"
        },
        "id": "5yUTG19zfVHu",
        "outputId": "e2d27ac4-68f6-4c35-958a-e2be358f4ed9"
      },
      "source": [
        "import speech_recognition as sr\n",
        "\n",
        "AUDIO_FILE = 'youtube1019.wav'\n",
        "r = sr.Recognizer()\n",
        "with sr.AudioFile(AUDIO_FILE) as source:\n",
        "  audio = r.record(source)\n",
        "  print('文字起こし結果:＼n',r.recognize_google(audio,language='ja'))"
      ],
      "execution_count": 7,
      "outputs": [
        {
          "output_type": "stream",
          "name": "stdout",
          "text": [
            "文字起こし結果:＼n いや 皆さん あれていと申します すでに何本か ヒーリングミュージックということで 動画を上げさせてもらってると思うんですけど 直接 僕の方から皆さんとこ行って話をするのは初めてだと思いますので改めて 初めまして アレテー と申します このチャンネルではですね前 従来通り ヒーリングミュージックの方もあげさせていただくんですけど それだけではなくて 子テーマとして日常生活 人間 ならではの悩みですね 普段の生活をしていてなんとなく日常 疲れたなーとか悩みを抱える事ってま 大小様々な と思うんですけどあると思うんですね あなのでそういったところについて 動画で一緒にく り と こうまさん お悩みってのとこから来ることなのかとかどうやって対処していくのか とかそういったところ 椅子 2個を紐解いていけるといいんじゃないかなという風に思っています でもともと 怖がっているヒーリングミュージックについてはま作業用に使っていただいてもいいですし もうちょっと まさか 2じゃないですけども ゆっくり読書したいなとかコーヒー 吸いたいなーって時とかには気持ちを落ち着けるために聞いてもらってもいいですよ 夜の睡眠導入ということで使ってもいいと思います あとは これから こう話をしていくようなことなんか もこう チャンネルをね 見てもらう時についてはもう着いた気持ちでゆっくりとか聞いてもらう 見てもらえればいいと思ってますのでよろしくお願いします 今二階のタイトルについても色々と考えていこうとは思うんですけどあの性格なら 生の声を 皆さん聞いてみたいと思いますので コメント欄 なんかで悩んでることだったりとかそういったことをシェアしてもらえるといいんじゃないかなと思いますので ご協力よろしくお願いします ではまあ短いですけど 紹介については これで終わりたいと思います また次回よろしくお願いします\n"
          ]
        }
      ]
    }
  ]
}